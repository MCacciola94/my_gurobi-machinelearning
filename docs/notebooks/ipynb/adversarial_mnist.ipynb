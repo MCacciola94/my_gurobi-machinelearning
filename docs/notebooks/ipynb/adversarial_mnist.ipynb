{
 "cells": [
  {
   "cell_type": "markdown",
   "id": "92382f6d",
   "metadata": {
    "nbsphinx": "hidden",
    "slideshow": {
     "slide_type": "skip"
    }
   },
   "source": [
    "<div class=\"alert alert-warning\">\n",
    "warning\n",
    "\n",
    "The ipynb version of this notebook should not be manually edited.\n",
    "If you want to make modification please modify the .md version\n",
    "\n",
    "</div>"
   ]
  },
  {
   "cell_type": "markdown",
   "id": "b5a79b86",
   "metadata": {
    "slideshow": {
     "slide_type": "skip"
    }
   },
   "source": [
    "<div class=\"alert alert-warning\">\n",
    "warning\n",
    "\n",
    "This code is in a pre-release state. It may not be fully functional and breaking changes\n",
    "can occur without notice.\n",
    "\n",
    "</div>"
   ]
  },
  {
   "cell_type": "code",
   "execution_count": null,
   "id": "7d275696",
   "metadata": {
    "slideshow": {
     "slide_type": "skip"
    }
   },
   "outputs": [],
   "source": [
    "from traitlets.config.manager import BaseJSONConfigManager\n",
    "from pathlib import Path\n",
    "path = Path.home()/\".jupyter\"/\"nbconfig\"\n",
    "cm = BaseJSONConfigManager(config_dir=str(path))\n",
    "cm.update(\n",
    "    \"rise\",\n",
    "    {\n",
    "        \"transition\": \"linear\",\n",
    "        \"start_slideshow_at\": \"selected\",\n",
    "        \"scroll\": True,\n",
    "        \"enable_chalkboard\": False,  # scrollable slides are only available without chalkboard\n",
    "        \"header\": \"<div class=logo><img src=images/gurobi-light.svg alt=Gurobi></div>\"\n",
    "    }\n",
    ")"
   ]
  },
  {
   "cell_type": "markdown",
   "id": "726bf451",
   "metadata": {
    "slideshow": {
     "slide_type": "slide"
    }
   },
   "source": [
    "<div class=\"titlepage\">\n",
    "    \n",
    "# Adversarial Example with Gurobi Machine Learning\n",
    "    \n",
    "</div>"
   ]
  },
  {
   "cell_type": "markdown",
   "id": "83c85799",
   "metadata": {
    "slideshow": {
     "slide_type": "subslide"
    }
   },
   "source": [
    "In this example, we show how to use Gurobi Machine Learning to construct an\n",
    "adversarial example for a trained neural network.\n",
    "\n",
    "We use the MNIST handwritten digit database (http://yann.lecun.com/exdb/mnist/)."
   ]
  },
  {
   "cell_type": "markdown",
   "id": "eb9e159d",
   "metadata": {
    "slideshow": {
     "slide_type": "subslide"
    }
   },
   "source": [
    "We are given a (small) trained neural network and one well classified\n",
    "example $\\bar x$. Our goal is to construct another example $x$ _close to_ $\\bar\n",
    "x$ that is classified with another label."
   ]
  },
  {
   "cell_type": "code",
   "execution_count": null,
   "id": "8f93cf06",
   "metadata": {
    "slideshow": {
     "slide_type": "skip"
    }
   },
   "outputs": [],
   "source": [
    "import gurobipy as gp\n",
    "import numpy as np\n",
    "from joblib import load\n",
    "from matplotlib import pyplot as plt\n",
    "\n",
    "from gurobi_ml.sklearn import add_mlp_regressor_constr"
   ]
  },
  {
   "cell_type": "code",
   "execution_count": null,
   "id": "e4290203",
   "metadata": {
    "slideshow": {
     "slide_type": "subslide"
    }
   },
   "outputs": [],
   "source": [
    "# Load the trained network and the examples\n",
    "mnist_data = load(\"../../../tests/predictors/mnist__mlpclassifier.joblib\")\n",
    "X = mnist_data[\"data\"]\n",
    "nn = mnist_data[\"predictor\"]\n",
    "# Choose an example\n",
    "exampleno = 26\n",
    "example = X[exampleno : exampleno + 1, :]"
   ]
  },
  {
   "cell_type": "markdown",
   "id": "350ea922",
   "metadata": {
    "slideshow": {
     "slide_type": "subslide"
    }
   },
   "source": [
    "For the hand digit recognition problem, the example is a grayscale image of $28\n",
    "\\times 28$ ($=784$) pixels and the output is a vector of length 10 (each entry\n",
    "corresponding to a digit). We denote the output vector by $y$. The image is\n",
    "classified according to the largest entry of $y$."
   ]
  },
  {
   "cell_type": "code",
   "execution_count": null,
   "id": "92f5ed88",
   "metadata": {
    "slideshow": {
     "slide_type": "subslide"
    }
   },
   "outputs": [],
   "source": [
    "plt.imshow(example.reshape((28, 28)), cmap=\"gray\")"
   ]
  },
  {
   "cell_type": "code",
   "execution_count": null,
   "id": "a634c155",
   "metadata": {
    "slideshow": {
     "slide_type": "subslide"
    }
   },
   "outputs": [],
   "source": [
    "print(f\"Predicted label {nn.predict(example)}\")"
   ]
  },
  {
   "cell_type": "markdown",
   "id": "32014c3b",
   "metadata": {
    "slideshow": {
     "slide_type": "subslide"
    }
   },
   "source": [
    "We use `predict_proba` to get the weight for each label given by the neural\n",
    "network."
   ]
  },
  {
   "cell_type": "code",
   "execution_count": null,
   "id": "5c7bb9f9",
   "metadata": {
    "slideshow": {
     "slide_type": "subslide"
    }
   },
   "outputs": [],
   "source": [
    "ex_prob = nn.predict_proba(example)\n",
    "ex_prob"
   ]
  },
  {
   "cell_type": "markdown",
   "id": "85f2c751",
   "metadata": {
    "slideshow": {
     "slide_type": "subslide"
    }
   },
   "source": [
    "For this training example, coordinate $l=4$ of the output vector is\n",
    "the one with the largest value giving the correct label. We pick a coordinate\n",
    "corresponding to another label, denoted $w$, and we want the difference between\n",
    "$y_w - y_l$ to be as large as possible.\n",
    "\n",
    "If we find a $x$ where this difference is positive, then $x$ is a\n",
    "counter-example that receives a different label. If instead we show that\n",
    "the difference is negative, no such counter-example exists."
   ]
  },
  {
   "cell_type": "code",
   "execution_count": null,
   "id": "0a947914",
   "metadata": {
    "slideshow": {
     "slide_type": "subslide"
    }
   },
   "outputs": [],
   "source": [
    "sorted_labels = np.argsort(ex_prob)[0]\n",
    "right_label = sorted_labels[-1]\n",
    "wrong_label = sorted_labels[-2]\n",
    "print(f\"The wrong label we choose is {wrong_label}\")"
   ]
  },
  {
   "cell_type": "markdown",
   "id": "f22613bd",
   "metadata": {
    "slideshow": {
     "slide_type": "subslide"
    }
   },
   "source": [
    "We define the neighborhood using the $l1-$norm $|| x - \\bar x\n",
    "||_1$, it is defined by a fixed parameter $\\delta$:\n",
    "want\n",
    "\n",
    "$$ || x - \\bar x ||_1 \\le \\delta. $$"
   ]
  },
  {
   "cell_type": "markdown",
   "id": "e0a8db2c",
   "metadata": {
    "slideshow": {
     "slide_type": "subslide"
    }
   },
   "source": [
    "If we denote by $g$ the prediction function of the neural network. Our full\n",
    "optimization model reads:\n",
    "\n",
    "$$ \\begin{aligned} &\\max y_w - y_l \\\\\n",
    "&\\text{subject to:}\\\\\n",
    "&|| x - \\bar x ||_1 \\le \\delta,\\\\\n",
    "& y = g(x). \\end{aligned} $$\n",
    "\n",
    "\n",
    "Our model is inspired by <cite data-cite=\"fischetti_jo_2018\">Fischet al.\n",
    "(2018)</cite>."
   ]
  },
  {
   "cell_type": "markdown",
   "id": "100e4ef9",
   "metadata": {
    "slideshow": {
     "slide_type": "slide"
    }
   },
   "source": [
    "## Optimization Model\n",
    "\n",
    "Now build the model with gurobipy"
   ]
  },
  {
   "cell_type": "markdown",
   "id": "77636796",
   "metadata": {
    "slideshow": {
     "slide_type": "slide"
    }
   },
   "source": [
    "Create a matrix variable `x` corresponding to input of the\n",
    "neural network and a matrix variable `y` corresponding to the output of the\n",
    "neural network. Those variables should have respectively the shape of the\n",
    "example we picked and the shape of the return value of `predict_proba`."
   ]
  },
  {
   "cell_type": "code",
   "execution_count": null,
   "id": "375db0b2",
   "metadata": {
    "slideshow": {
     "slide_type": "subslide"
    }
   },
   "outputs": [],
   "source": [
    "m = gp.Model()\n",
    "delta = 5\n",
    "\n",
    "x = m.addMVar(example.shape, lb=0.0, ub=1.0, name=\"x\")\n",
    "y = m.addMVar(ex_prob.shape, lb=-gp.GRB.INFINITY, name=\"y\")"
   ]
  },
  {
   "cell_type": "markdown",
   "id": "d7c6d406",
   "metadata": {
    "slideshow": {
     "slide_type": "slide"
    }
   },
   "source": [
    "Set the objective to maximize the difference between the\n",
    "_wrong_ label and the _right_ label."
   ]
  },
  {
   "cell_type": "code",
   "execution_count": null,
   "id": "e6fa2fac",
   "metadata": {
    "slideshow": {
     "slide_type": "subslide"
    }
   },
   "outputs": [],
   "source": [
    "m.setObjective(y[0, wrong_label] - y[0, right_label], gp.GRB.MAXIMIZE)"
   ]
  },
  {
   "cell_type": "markdown",
   "id": "7265fff9",
   "metadata": {
    "slideshow": {
     "slide_type": "slide"
    }
   },
   "source": [
    "Crete additional variables to model the $l1-$norm constraint.\n",
    "\n",
    "For each pixel in the image, we need to model the absolute difference between $x$\n",
    "and $\\bar x$.\n",
    "\n",
    "Denote by $\\eta$ the matrix variable measuring the absolute difference."
   ]
  },
  {
   "cell_type": "markdown",
   "id": "c1be8d01",
   "metadata": {
    "slideshow": {
     "slide_type": "slide"
    }
   },
   "source": [
    "The $l1-$norm constraint is formulated with:\n",
    "\n",
    "$$ \\eta \\ge x - \\bar x \\\\\n",
    "\\eta \\ge \\bar x - x \\\\\n",
    "\\sum \\eta \\le \\delta $$"
   ]
  },
  {
   "cell_type": "code",
   "execution_count": null,
   "id": "550c78fa",
   "metadata": {
    "slideshow": {
     "slide_type": "subslide"
    }
   },
   "outputs": [],
   "source": [
    "# Bound on the distance to example in norm-1\n",
    "eta = m.addMVar(example.shape, lb=0, ub=1, name=\"abs_diff\")\n",
    "m.addConstr(eta >= x - example)\n",
    "m.addConstr(eta >= -x + example)\n",
    "m.addConstr(eta.sum() <= delta);"
   ]
  },
  {
   "cell_type": "markdown",
   "id": "976c579b",
   "metadata": {
    "slideshow": {
     "slide_type": "slide"
    }
   },
   "source": [
    "Finally, insert the neural network in the `gurobipy` model to link `x` and\n",
    "`y`.\n",
    "\n",
    "Note that the neural network is trained for classification with a `\"softmax\"` activation in\n",
    "the last layer. But in this model we are using the network without activation in\n",
    "the last layer.\n",
    "\n",
    "For this reason, we change manually the last layer activation before adding the\n",
    "network to the Gurobi model."
   ]
  },
  {
   "cell_type": "code",
   "execution_count": null,
   "id": "0bafec7b",
   "metadata": {
    "slideshow": {
     "slide_type": "subslide"
    }
   },
   "outputs": [],
   "source": [
    "# Change last layer activation to identity\n",
    "nn.out_activation_ = \"identity\"\n",
    "# Code to add the neural network to the constraints\n",
    "pred_constr = add_mlp_regressor_constr(m, nn, x, y)\n",
    "\n",
    "# Restore activation\n",
    "nn.out_activation_ = \"softmax\""
   ]
  },
  {
   "cell_type": "markdown",
   "id": "1c4ab7e2",
   "metadata": {
    "slideshow": {
     "slide_type": "subslide"
    }
   },
   "source": [
    "The model should be complete. We print the statistics of what was added to\n",
    "insert the neural network into the optimization model."
   ]
  },
  {
   "cell_type": "code",
   "execution_count": null,
   "id": "aab19c1f",
   "metadata": {
    "slideshow": {
     "slide_type": "subslide"
    }
   },
   "outputs": [],
   "source": [
    "pred_constr.print_stats()"
   ]
  },
  {
   "cell_type": "markdown",
   "id": "f3bdc72c",
   "metadata": {
    "slideshow": {
     "slide_type": "slide"
    }
   },
   "source": [
    "## Solving the model\n",
    "\n",
    "We now turn to solving the optimization model. Solving the adversarial problem,\n",
    "as we formulated it above, doesn't actually require computing a provably optimal\n",
    "solution. Instead, we need to either:\n",
    "\n",
    "   - find a feasible solution with a positive objective cost (i.e. a\n",
    "     counter-example), or\n",
    "   - prove that there is no solution of positive cost (i.e. no counter-example\n",
    "     in the neighborhood exists).\n",
    "\n",
    " We use Gurobi parameters to limit the optimization to limit the optimization to answering those\n",
    " questions."
   ]
  },
  {
   "cell_type": "code",
   "execution_count": null,
   "id": "23e3335c",
   "metadata": {
    "slideshow": {
     "slide_type": "subslide"
    }
   },
   "outputs": [],
   "source": [
    "m.Params.BestBdStop = 0.0\n",
    "m.Params.BestObjStop = 0.0\n",
    "m.optimize()"
   ]
  },
  {
   "cell_type": "markdown",
   "id": "829a9865",
   "metadata": {
    "slideshow": {
     "slide_type": "slide"
    }
   },
   "source": [
    "## Results\n",
    "\n",
    "Normally, for the example and $\\delta$ we chose, a counter example that gets the\n",
    "wrong label is found. We finish this notebook by plotting the counter example\n",
    "and printing how it is classified by the neural network."
   ]
  },
  {
   "cell_type": "code",
   "execution_count": null,
   "id": "6b65dd1d",
   "metadata": {
    "slideshow": {
     "slide_type": "fragment"
    }
   },
   "outputs": [],
   "source": [
    "plt.imshow(x.X.reshape((28, 28)), cmap=\"gray\")"
   ]
  },
  {
   "cell_type": "code",
   "execution_count": null,
   "id": "e8c2abc9",
   "metadata": {
    "slideshow": {
     "slide_type": "subslide"
    }
   },
   "outputs": [],
   "source": [
    "print(f\"Solution is classified as {nn.predict(x.X)}\")"
   ]
  },
  {
   "cell_type": "markdown",
   "id": "81a6d207",
   "metadata": {
    "nbsphinx": "hidden",
    "slideshow": {
     "slide_type": "slide"
    }
   },
   "source": [
    "<div class=\"titlepage\">\n",
    "\n",
    "# Thank you!\n",
    " \n",
    "<br>\n",
    "<br>\n",
    "<br>\n",
    "    \n",
    "Find out more [Gurobi Machine Learning](https://gurobi-optimization-gurobi-machine-learning.readthedocs-hosted.com/en/stable/)\n",
    "    \n",
    "</div>"
   ]
  }
 ],
 "metadata": {
  "celltoolbar": "Slideshow",
  "jupytext": {
   "formats": "ipynb///ipynb,myst///md:myst"
  },
  "kernelspec": {
   "display_name": "Python 3 (ipykernel)",
   "language": "python",
   "name": "python3"
  },
  "language_info": {
   "codemirror_mode": {
    "name": "ipython",
    "version": 3
   },
   "file_extension": ".py",
   "mimetype": "text/x-python",
   "name": "python",
   "nbconvert_exporter": "python",
   "pygments_lexer": "ipython3",
   "version": "3.9.12"
  },
  "license": {
   "full_text": "# Copyright © 2022 Gurobi Optimization, LLC\n#\n# Licensed under the Apache License, Version 2.0 (the \"License\");\n# you may not use this file except in compliance with the License.\n# You may obtain a copy of the License at\n#\n#     http://www.apache.org/licenses/LICENSE-2.0\n#\n# Unless required by applicable law or agreed to in writing, software\n# distributed under the License is distributed on an \"AS IS\" BASIS,\n# WITHOUT WARRANTIES OR CONDITIONS OF ANY KIND, either express or implied.\n# See the License for the specific language governing permissions and\n# limitations under the License.\n# =============================================================================="
  }
 },
 "nbformat": 4,
 "nbformat_minor": 5
}
